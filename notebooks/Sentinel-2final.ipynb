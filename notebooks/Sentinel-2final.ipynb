{
 "cells": [
  {
   "cell_type": "code",
   "execution_count": 1,
   "metadata": {},
   "outputs": [
    {
     "data": {
      "application/vnd.jupyter.widget-view+json": {
       "model_id": "b4aebe6018c145d18be08c1d0b645ca9",
       "version_major": 2,
       "version_minor": 0
      },
      "text/plain": [
       "Map(center=[30.6238, 76.8006], controls=(WidgetControl(options=['position', 'transparent_bg'], widget=HBox(chi…"
      ]
     },
     "metadata": {},
     "output_type": "display_data"
    },
    {
     "name": "stdout",
     "output_type": "stream",
     "text": [
      "Element.toDictionary: Parameter 'element' is required.\n"
     ]
    }
   ],
   "source": [
    "import ee\n",
    "import geemap\n",
    "import geemap.colormaps as cm\n",
    "import ipywidgets as widgets\n",
    "from bqplot import pyplot as plt\n",
    "from ipyleaflet import WidgetControl\n",
    "\n",
    "Map = geemap.Map()\n",
    "Map.add_basemap('HYBRID')\n",
    "Map.setCenter(76.8006, 30.6238, 14)\n",
    "Map"
   ]
  },
  {
   "cell_type": "code",
   "execution_count": 2,
   "metadata": {},
   "outputs": [
    {
     "data": {
      "application/vnd.jupyter.widget-view+json": {
       "model_id": "e9aadae012bb4b8da0f56c52cc15413c",
       "version_major": 2,
       "version_minor": 0
      },
      "text/plain": [
       "VBox(children=(HBox(children=(FloatSlider(value=0.0, description='Threshold:', max=1.0, min=-1.0, step=0.01, s…"
      ]
     },
     "metadata": {},
     "output_type": "display_data"
    }
   ],
   "source": [
    "style = {'description_width': 'initial'}\n",
    "\n",
    "output_widget = widgets.Output(layout={'border': '1px solid black'})\n",
    "output_control = WidgetControl(widget=output_widget, position='bottomleft')\n",
    "Map.add_control(output_control)\n",
    "\n",
    "nd_options = ['Vegetation Index (NDVI)', \n",
    "              'Modified Water Index (MNDWI)',\n",
    "              'Soil Index (NDSI)',\n",
    "              'Customized']\n",
    "nd_indices = widgets.Dropdown(options=nd_options, value='Modified Water Index (MNDWI)', description='Normalized Difference Index:', style=style)\n",
    "\n",
    "year_widget = widgets.IntSlider(min=2017, max=2021, value=2021, description='Selected year:', width=400, style=style)\n",
    "\n",
    "Startdate = ['2018-01-01','2019-01-01','2020-01-01','2021-01-01']\n",
    "#Startdate = ['2018','2019','2020','2021']\n",
    "startdate = widgets.Dropdown(options=Startdate, value='2021-01-01', description='Startdate', style=style)\n",
    "\n",
    "Enddate = ['2018-12-31','2019-12-31','2020-12-31','2021-08-18']\n",
    "\n",
    "enddate = widgets.Dropdown(options=Enddate, value='2021-08-18', description='End Date', style=style)\n",
    "\n",
    "first_band = widgets.Dropdown(\n",
    "    description='1st band:',\n",
    "    options=['B2', 'B3','B4','B8', 'B11', 'B12'],\n",
    "    value='B3',\n",
    "    style=style\n",
    ")\n",
    "\n",
    "second_band = widgets.Dropdown(\n",
    "    description='2nd band:',\n",
    "    options=['B2', 'B3','B4','B8', 'B11', 'B12'],\n",
    "    value='B11',\n",
    "    style=style\n",
    ")\n",
    "\n",
    "nd_threshold = widgets.FloatSlider(\n",
    "    value=0,\n",
    "    min=-1,\n",
    "    max=1,\n",
    "    step=0.01,\n",
    "    description='Threshold:',\n",
    "    orientation='horizontal',\n",
    "    style=style\n",
    ")\n",
    "\n",
    "aoi_widget = widgets.Checkbox(\n",
    "    value=True,\n",
    "    description='Use user-drawn AOI',\n",
    "    style=style\n",
    ")\n",
    "\n",
    "def aoi_change(change):\n",
    "    Map.layers = Map.layers[:4]   \n",
    "    Map.user_roi = None\n",
    "    Map.user_rois = None\n",
    "    Map.draw_count = 0\n",
    "    output_widget.clear_output()\n",
    "    \n",
    "aoi_widget.observe(aoi_change, names='value')\n",
    "\n",
    "nd_color = widgets.ColorPicker(\n",
    "    concise=False,\n",
    "    description='Color:',\n",
    "    value='blue',\n",
    "    style=style\n",
    ")\n",
    "\n",
    "def nd_index_change(change):\n",
    "    if nd_indices.value == 'Vegetation Index (NDVI)':\n",
    "        first_band.value = 'B8'\n",
    "        second_band.value = 'B4' \n",
    "    elif nd_indices.value == 'Modified Water Index (MNDWI)':\n",
    "        first_band.value = 'B3'\n",
    "        second_band.value = 'B11'   \n",
    "    elif nd_indices.value == 'Soil Index (NDSI)':\n",
    "        first_band.value = 'B11'\n",
    "        second_band.value = 'B8'        \n",
    "    elif nd_indices.value == 'Customized':\n",
    "        first_band.value = None\n",
    "        second_band.value = None\n",
    "        \n",
    "nd_indices.observe(nd_index_change, names='value')\n",
    "\n",
    "submit = widgets.Button(\n",
    "    description='Submit',\n",
    "    button_style='primary',\n",
    "    tooltip='Click me',\n",
    "    style=style\n",
    ")\n",
    "\n",
    "full_widget = widgets.VBox([\n",
    "    widgets.HBox([nd_threshold,startdate,enddate]),\n",
    "    widgets.HBox([nd_indices, first_band, second_band]),\n",
    "    submit\n",
    "])\n",
    "\n",
    "full_widget"
   ]
  },
  {
   "cell_type": "code",
   "execution_count": 3,
   "metadata": {},
   "outputs": [
    {
     "name": "stdout",
     "output_type": "stream",
     "text": [
      "Modified Water Index (MNDWI)\n",
      "2021-01-01\n",
      "2021-08-18\n"
     ]
    }
   ],
   "source": [
    "print(nd_indices.value)\n",
    "print(startdate.value)\n",
    "print(enddate.value)"
   ]
  },
  {
   "cell_type": "code",
   "execution_count": 4,
   "metadata": {},
   "outputs": [
    {
     "data": {
      "text/plain": [
       "\"def submit_clicked(b):\\n     with output_widget:\\n        output_widget.clear_output()\\n        print('Computing...')\\n        Map.default_style = {'cursor': 'wait'}\\n        \\n        try:\\n            band1 = first_band.value\\n            band2 = second_band.value\\n            selected_year = year_widget.value\\n            threshold = nd_threshold.value\\n            #palette = nd_color.value\\n            def maskS2clouds(image):\\n                qa = image.select('QA60')\\n                #  # Bits 10 and 11 are clouds and cirrus, respectively.\\n                cloudBitMask = 1 << 10\\n                cirrusBitMask = 1 << 11\\n                # Both flags should be set to zero, indicating clear conditions.\\n                mask = qa.bitwiseAnd(cloudBitMask).eq(0)                     .And(qa.bitwiseAnd(cirrusBitMask).eq(0))\\n                return image.updateMask(mask).divide(10000)\\n            geometry= ee.Geometry.Polygon([[76.79911551271984,30.6168475776271],\\n                            [76.79911551271984,30.62644958134403],\\n                            [76.78280768190929,30.62644958134403],\\n                            [76.78280768190929,30.6168475776271]])\\n            S2_SR = ee.ImageCollection('COPERNICUS/S2_SR').filterBounds(geometry)                    .filterDate('2021-01-01', '2021-08-06')                    .filter(ee.Filter.lt('CLOUDY_PIXEL_PERCENTAGE',20))                                .map(maskS2clouds)                    .select(['B2','B3','B4','B8','B11','B12'])\\n            def addVI(image):\\n                VI = image.normalizedDifference([band1, band2]).rename('VI')\\n                return image.addBands(VI)\\n            S2_SR = S2_SR.map(addVI)\\n            image= S2_SR.select('VI').toBands()\\n            recent_S2 = ee.Image(S2_SR.sort('system:time_start', False).first())\\n            palette = cm.palettes.ndvi\\n            ndviVis = {\\n                'min': 0.0,\\n                'max': 1.0,\\n                'palette': palette\\n                 }\\n            VI=recent_S2.select('VI')\\n            #Map.setCenter(76.8006, 30.6238, 14)\\n            Map.set_plot_options(add_marker_cluster=False,position='bottomright',overlay=False,max_height=250,max_width=400)\\n            # To Draw features on a particular layer\\n            Map.addLayer(image,{}, 'Timeseries of Sentinel VI',opacity=.1)\\n            roi1 = ee.FeatureCollection(Map.draw_features)\\n            \\n            ndvi_img=VI.clip(roi1)       \\n            Map.addLayer(ndvi_img,ndviVis,'VI_image')\\n            \\n                           \\n        except Exception as e:\\n            print(e)\\n            print('An error occurred during computation.') \\n        Map.default_style = {'cursor': 'default'}\\n            \\nsubmit.on_click(submit_clicked)\""
      ]
     },
     "execution_count": 4,
     "metadata": {},
     "output_type": "execute_result"
    }
   ],
   "source": [
    "\"\"\"def submit_clicked(b):\n",
    "     with output_widget:\n",
    "        output_widget.clear_output()\n",
    "        print('Computing...')\n",
    "        Map.default_style = {'cursor': 'wait'}\n",
    "        \n",
    "        try:\n",
    "            band1 = first_band.value\n",
    "            band2 = second_band.value\n",
    "            selected_year = year_widget.value\n",
    "            threshold = nd_threshold.value\n",
    "            #palette = nd_color.value\n",
    "            def maskS2clouds(image):\n",
    "                qa = image.select('QA60')\n",
    "                #  # Bits 10 and 11 are clouds and cirrus, respectively.\n",
    "                cloudBitMask = 1 << 10\n",
    "                cirrusBitMask = 1 << 11\n",
    "                # Both flags should be set to zero, indicating clear conditions.\n",
    "                mask = qa.bitwiseAnd(cloudBitMask).eq(0) \\\n",
    "                    .And(qa.bitwiseAnd(cirrusBitMask).eq(0))\n",
    "                return image.updateMask(mask).divide(10000)\n",
    "            geometry= ee.Geometry.Polygon([[76.79911551271984,30.6168475776271],\n",
    "                            [76.79911551271984,30.62644958134403],\n",
    "                            [76.78280768190929,30.62644958134403],\n",
    "                            [76.78280768190929,30.6168475776271]])\n",
    "            S2_SR = ee.ImageCollection('COPERNICUS/S2_SR').filterBounds(geometry)\\\n",
    "                    .filterDate('2021-01-01', '2021-08-06')\\\n",
    "                    .filter(ee.Filter.lt('CLOUDY_PIXEL_PERCENTAGE',20)) \\\n",
    "                               .map(maskS2clouds)\\\n",
    "                    .select(['B2','B3','B4','B8','B11','B12'])\n",
    "            def addVI(image):\n",
    "                VI = image.normalizedDifference([band1, band2]).rename('VI')\n",
    "                return image.addBands(VI)\n",
    "            S2_SR = S2_SR.map(addVI)\n",
    "            image= S2_SR.select('VI').toBands()\n",
    "            recent_S2 = ee.Image(S2_SR.sort('system:time_start', False).first())\n",
    "            palette = cm.palettes.ndvi\n",
    "            ndviVis = {\n",
    "                'min': 0.0,\n",
    "                'max': 1.0,\n",
    "                'palette': palette\n",
    "                 }\n",
    "            VI=recent_S2.select('VI')\n",
    "            #Map.setCenter(76.8006, 30.6238, 14)\n",
    "            Map.set_plot_options(add_marker_cluster=False,position='bottomright',overlay=False,max_height=250,max_width=400)\n",
    "            # To Draw features on a particular layer\n",
    "            Map.addLayer(image,{}, 'Timeseries of Sentinel VI',opacity=.1)\n",
    "            roi1 = ee.FeatureCollection(Map.draw_features)\n",
    "            \n",
    "            ndvi_img=VI.clip(roi1)       \n",
    "            Map.addLayer(ndvi_img,ndviVis,'VI_image')\n",
    "            \n",
    "                           \n",
    "        except Exception as e:\n",
    "            print(e)\n",
    "            print('An error occurred during computation.') \n",
    "        Map.default_style = {'cursor': 'default'}\n",
    "            \n",
    "submit.on_click(submit_clicked)\"\"\""
   ]
  },
  {
   "cell_type": "code",
   "execution_count": 5,
   "metadata": {},
   "outputs": [],
   "source": [
    "def submit_clicked(b):\n",
    "     with output_widget:\n",
    "        output_widget.clear_output()\n",
    "        print('Computing...')\n",
    "        Map.default_style = {'cursor': 'wait'}\n",
    "        \n",
    "        try:\n",
    "            band1 = first_band.value\n",
    "            band2 = second_band.value\n",
    "            selected_year = year_widget.value\n",
    "            threshold = nd_threshold.value\n",
    "            Startdate=startdate.value\n",
    "            Enddate=enddate.value\n",
    "\n",
    "            #palette = nd_color.value\n",
    "            \n",
    "            def maskS2clouds(image):\n",
    "                qa = image.select('QA60')\n",
    "                #  # Bits 10 and 11 are clouds and cirrus, respectively.\n",
    "                cloudBitMask = 1 << 10\n",
    "                cirrusBitMask = 1 << 11\n",
    "                # Both flags should be set to zero, indicating clear conditions.\n",
    "                mask = qa.bitwiseAnd(cloudBitMask).eq(0) \\\n",
    "                    .And(qa.bitwiseAnd(cirrusBitMask).eq(0))\n",
    "                return image.updateMask(mask).divide(10000)\n",
    "            \n",
    "            geometry= ee.Geometry.Polygon([[76.79911551271984,30.6168475776271],\n",
    "                            [76.79911551271984,30.62644958134403],\n",
    "                            [76.78280768190929,30.62644958134403],\n",
    "                            [76.78280768190929,30.6168475776271]])\n",
    "          \n",
    "            S2_SR = ee.ImageCollection('COPERNICUS/S2_SR').filterBounds(geometry)\\\n",
    "                    .filterDate(Startdate, Enddate)\\\n",
    "                    .filter(ee.Filter.lt('CLOUDY_PIXEL_PERCENTAGE',20)) \\\n",
    "                               .map(maskS2clouds)\\\n",
    "                    .select(['B2','B3','B4','B8','B11','B12'])\n",
    "            \n",
    "            def addVI(image):\n",
    "                VI = image.normalizedDifference([band1, band2]).rename('VI')\n",
    "                return image.addBands(VI)\n",
    "            S2_SR = S2_SR.map(addVI)\n",
    "            image= S2_SR.select('VI').toBands()\n",
    "            recent_S2 = ee.Image(S2_SR.sort('system:time_start', False).first())\n",
    "            palette = cm.palettes.ndvi\n",
    "            ndviVis = {\n",
    "                'min': 0.0,\n",
    "                'max': 1.0,\n",
    "                'palette': palette\n",
    "                 }\n",
    "            VI=recent_S2.select('VI')\n",
    "            #Map.setCenter(76.8006, 30.6238, 14)\n",
    "            Map.set_plot_options(add_marker_cluster=False,position='bottomright',overlay=True,max_height=250,max_width=400)\n",
    "            # To Draw features on a particular layer\n",
    "            roi1 = ee.FeatureCollection(Map.draw_features)\n",
    "            image1=image.clip(roi1) \n",
    "            Map.addLayer(image1,{}, 'Timeseries of Sentinel VI',opacity=.1)\n",
    "            \n",
    "            roi1 = ee.FeatureCollection(Map.draw_features)\n",
    "            ndvi_img=VI.clip(roi1)       \n",
    "            Map.addLayer(ndvi_img,ndviVis,'VI_image')\n",
    "            \n",
    "                           \n",
    "        except Exception as e:\n",
    "            print(e)\n",
    "            print('An error occurred during computation.') \n",
    "        Map.default_style = {'cursor': 'default'}\n",
    "            \n",
    "submit.on_click(submit_clicked)"
   ]
  },
  {
   "cell_type": "code",
   "execution_count": 6,
   "metadata": {},
   "outputs": [
    {
     "data": {
      "text/plain": [
       "'\"def maskS2clouds(image):\\n    \\n    qa = image.select(\\'QA60\\')\\n    #  # Bits 10 and 11 are clouds and cirrus, respectively.\\n    cloudBitMask = 1 << 10\\n    cirrusBitMask = 1 << 11\\n    # Both flags should be set to zero, indicating clear conditions.\\n    mask = qa.bitwiseAnd(cloudBitMask).eq(0)         .And(qa.bitwiseAnd(cirrusBitMask).eq(0))\\n    return image.updateMask(mask).divide(10000)\\n            \\ngeometry= ee.Geometry.Polygon([[76.79911551271984,30.6168475776271],\\n                    [76.79911551271984,30.62644958134403],\\n                    [76.78280768190929,30.62644958134403],\\n                    [76.78280768190929,30.6168475776271]])\\nS2_SR = ee.ImageCollection(\\'COPERNICUS/S2_SR\\').filterBounds(geometry)          .filterDate(\\'2018-01-01\\', \\'2021-08-06\\')          .filter(ee.Filter.lt(\\'CLOUDY_PIXEL_PERCENTAGE\\',20))           .map(maskS2clouds)          .select([\\'B2\\',\\'B3\\',\\'B4\\',\\'B8\\',\\'B11\\',\\'B12\\'])\\nselected_year = year_widget.value\\nthreshold = nd_threshold.value\\nband1 = first_band.value\\nband2 = second_band.value\\nnd_images = S2_SR.map(lambda img: img.normalizedDifference([band1, band2]))\\nresult_images = nd_images.map(lambda img: img.gt(threshold))\\nselected_image = ee.Image(S2_SR.toList(S2_SR.size()).get(selected_year - 2017))\\nselected_result_image = ee.Image(result_images.toList(result_images.size()).get(selected_year - 2017))\\n\\npalette = cm.palettes.ndvi\\n#palette = nd_color.value\\nndviVis = {\\n        \\'min\\': 0.0,\\n        \\'max\\': 1.0,\\n         }\\nvis_params = {\\n            \\'min\\': 0,\\n            \\'max\\': 1,\\n            }\\nroi1 = ee.FeatureCollection(Map.draw_features)\\nselected_image1=selected_image.clip(roi1) \\nselected_result_image1=selected_result_image.clip(roi1)\\nMap.addLayer(selected_image1, ndviVis, \\'Sentinel\\' + str(selected_year))\\nMap.addLayer(selected_result_image1, {\\'palette\\': palette}, \\'Result \\' + str(selected_year))'"
      ]
     },
     "execution_count": 6,
     "metadata": {},
     "output_type": "execute_result"
    }
   ],
   "source": [
    "\"\"\"\"def maskS2clouds(image):\n",
    "    \n",
    "    qa = image.select('QA60')\n",
    "    #  # Bits 10 and 11 are clouds and cirrus, respectively.\n",
    "    cloudBitMask = 1 << 10\n",
    "    cirrusBitMask = 1 << 11\n",
    "    # Both flags should be set to zero, indicating clear conditions.\n",
    "    mask = qa.bitwiseAnd(cloudBitMask).eq(0) \\\n",
    "        .And(qa.bitwiseAnd(cirrusBitMask).eq(0))\n",
    "    return image.updateMask(mask).divide(10000)\n",
    "            \n",
    "geometry= ee.Geometry.Polygon([[76.79911551271984,30.6168475776271],\n",
    "                    [76.79911551271984,30.62644958134403],\n",
    "                    [76.78280768190929,30.62644958134403],\n",
    "                    [76.78280768190929,30.6168475776271]])\n",
    "S2_SR = ee.ImageCollection('COPERNICUS/S2_SR').filterBounds(geometry)\\\n",
    "          .filterDate('2018-01-01', '2021-08-06')\\\n",
    "          .filter(ee.Filter.lt('CLOUDY_PIXEL_PERCENTAGE',20)) \\\n",
    "          .map(maskS2clouds)\\\n",
    "          .select(['B2','B3','B4','B8','B11','B12'])\n",
    "selected_year = year_widget.value\n",
    "threshold = nd_threshold.value\n",
    "band1 = first_band.value\n",
    "band2 = second_band.value\n",
    "nd_images = S2_SR.map(lambda img: img.normalizedDifference([band1, band2]))\n",
    "result_images = nd_images.map(lambda img: img.gt(threshold))\n",
    "selected_image = ee.Image(S2_SR.toList(S2_SR.size()).get(selected_year - 2017))\n",
    "selected_result_image = ee.Image(result_images.toList(result_images.size()).get(selected_year - 2017))\n",
    "\n",
    "palette = cm.palettes.ndvi\n",
    "#palette = nd_color.value\n",
    "ndviVis = {\n",
    "        'min': 0.0,\n",
    "        'max': 1.0,\n",
    "         }\n",
    "vis_params = {\n",
    "            'min': 0,\n",
    "            'max': 1,\n",
    "            }\n",
    "roi1 = ee.FeatureCollection(Map.draw_features)\n",
    "selected_image1=selected_image.clip(roi1) \n",
    "selected_result_image1=selected_result_image.clip(roi1)\n",
    "Map.addLayer(selected_image1, ndviVis, 'Sentinel' + str(selected_year))\n",
    "Map.addLayer(selected_result_image1, {'palette': palette}, 'Result ' + str(selected_year))\"\"\""
   ]
  },
  {
   "cell_type": "code",
   "execution_count": 7,
   "metadata": {},
   "outputs": [
    {
     "data": {
      "text/plain": [
       "'\"date=[]\\nfor i in range(0,20):\\n    #date.append(S2_SR.select(\\'B4\\').toBands().bandNames().getInfo()[i][:8])\\n    date.append(S2_SR.select(\\'B4\\').toBands().bandNames().getInfo()[i][:8])\\nprint(date)'"
      ]
     },
     "execution_count": 7,
     "metadata": {},
     "output_type": "execute_result"
    }
   ],
   "source": [
    "\"\"\"\"date=[]\n",
    "for i in range(0,20):\n",
    "    #date.append(S2_SR.select('B4').toBands().bandNames().getInfo()[i][:8])\n",
    "    date.append(S2_SR.select('B4').toBands().bandNames().getInfo()[i][:8])\n",
    "print(date)\"\"\"\n",
    "    "
   ]
  },
  {
   "cell_type": "code",
   "execution_count": null,
   "metadata": {},
   "outputs": [],
   "source": []
  },
  {
   "cell_type": "code",
   "execution_count": null,
   "metadata": {},
   "outputs": [],
   "source": []
  }
 ],
 "metadata": {
  "kernelspec": {
   "display_name": "Python 3",
   "language": "python",
   "name": "python3"
  },
  "language_info": {
   "codemirror_mode": {
    "name": "ipython",
    "version": 3
   },
   "file_extension": ".py",
   "mimetype": "text/x-python",
   "name": "python",
   "nbconvert_exporter": "python",
   "pygments_lexer": "ipython3",
   "version": "3.8.5"
  }
 },
 "nbformat": 4,
 "nbformat_minor": 4
}
