{
 "cells": [
  {
   "cell_type": "code",
   "execution_count": 7,
   "metadata": {},
   "outputs": [
    {
     "data": {
      "application/vnd.jupyter.widget-view+json": {
       "model_id": "c86d106fa4c6475c9f810cd0b6dbb767",
       "version_major": 2,
       "version_minor": 0
      },
      "text/plain": [
       "Map(center=[30.6238, 76.8006], controls=(WidgetControl(options=['position', 'transparent_bg'], widget=HBox(chi…"
      ]
     },
     "metadata": {},
     "output_type": "display_data"
    }
   ],
   "source": [
    "import ee\n",
    "import geemap\n",
    "import geemap.colormaps as cm\n",
    "import ipywidgets as widgets\n",
    "from bqplot import pyplot as plt\n",
    "from ipyleaflet import WidgetControl\n",
    "\n",
    "Map = geemap.Map()\n",
    "Map.add_basemap('HYBRID')\n",
    "Map.setCenter(76.8006, 30.6238, 14)\n",
    "Map"
   ]
  },
  {
   "cell_type": "code",
   "execution_count": 8,
   "metadata": {},
   "outputs": [
    {
     "data": {
      "application/vnd.jupyter.widget-view+json": {
       "model_id": "577c469f84364034a9f5a89897c9d741",
       "version_major": 2,
       "version_minor": 0
      },
      "text/plain": [
       "VBox(children=(HBox(children=(IntSlider(value=2021, description='Selected year:', max=2021, min=2017, style=Sl…"
      ]
     },
     "metadata": {},
     "output_type": "display_data"
    }
   ],
   "source": [
    "style = {'description_width': 'initial'}\n",
    "output_widget = widgets.Output(layout={'border': '1px solid black'})\n",
    "\n",
    "nd_options = ['Vegetation Index (NDVI)', \n",
    "              'Modified Water Index (MNDWI)',\n",
    "              'Soil Index (NDSI)',\n",
    "              'Customized']\n",
    "nd_indices = widgets.Dropdown(options=nd_options, value='Modified Water Index (MNDWI)', description='Normalized Difference Index:', style=style)\n",
    "\n",
    "year_widget = widgets.IntSlider(min=2017, max=2021, value=2021, description='Selected year:', width=400, style=style)\n",
    "\n",
    "nd_options = ['Vegetation Index (NDVI)', \n",
    "              'Modified Water Index (MNDWI)',\n",
    "              'Soil Index (NDSI)',\n",
    "              'Customized']\n",
    "\n",
    "first_band = widgets.Dropdown(\n",
    "    description='1st band:',\n",
    "    options=['B2', 'B3','B4','B8', 'B11', 'B12'],\n",
    "    value='B3',\n",
    "    style=style\n",
    ")\n",
    "\n",
    "second_band = widgets.Dropdown(\n",
    "    description='2nd band:',\n",
    "    options=['B2', 'B3','B4','B8', 'B11', 'B12'],\n",
    "    value='B11',\n",
    "    style=style\n",
    ")\n",
    "\n",
    "nd_threshold = widgets.FloatSlider(\n",
    "    value=0,\n",
    "    min=-1,\n",
    "    max=1,\n",
    "    step=0.01,\n",
    "    description='Threshold:',\n",
    "    orientation='horizontal',\n",
    "    style=style\n",
    ")\n",
    "\n",
    "nd_color = widgets.ColorPicker(\n",
    "    concise=False,\n",
    "    description='Color:',\n",
    "    value='blue',\n",
    "    style=style\n",
    ")\n",
    "\n",
    "def nd_index_change(change):\n",
    "    if nd_indices.value == 'Vegetation Index (NDVI)':\n",
    "        first_band.value = 'B8'\n",
    "        second_band.value = 'B4' \n",
    "    elif nd_indices.value == 'Modified Water Index (MNDWI)':\n",
    "        first_band.value = 'B3'\n",
    "        second_band.value = 'B11'   \n",
    "    elif nd_indices.value == 'Soil Index (NDSI)':\n",
    "        first_band.value = 'B11'\n",
    "        second_band.value = 'B8'        \n",
    "    elif nd_indices.value == 'Customized':\n",
    "        first_band.value = None\n",
    "        second_band.value = None\n",
    "        \n",
    "nd_indices.observe(nd_index_change, names='value')\n",
    "\n",
    "submit = widgets.Button(\n",
    "    description='Submit',\n",
    "    button_style='primary',\n",
    "    tooltip='Click me',\n",
    "    style=style\n",
    ")\n",
    "\n",
    "full_widget = widgets.VBox([\n",
    "    widgets.HBox([year_widget,nd_threshold]),\n",
    "    widgets.HBox([nd_indices, first_band, second_band]),\n",
    "    submit\n",
    "])\n",
    "\n",
    "full_widget"
   ]
  },
  {
   "cell_type": "code",
   "execution_count": 9,
   "metadata": {},
   "outputs": [],
   "source": [
    "def submit_clicked(b):\n",
    "     with output_widget:\n",
    "        output_widget.clear_output()\n",
    "        print('Computing...')\n",
    "        Map.default_style = {'cursor': 'wait'}\n",
    "        \n",
    "        try:\n",
    "            #def submit_clicked(b):\n",
    "            band1 = first_band.value\n",
    "            band2 = second_band.value\n",
    "            selected_year = year_widget.value\n",
    "            threshold = nd_threshold.value\n",
    "            #palette = nd_color.value\n",
    "            def maskS2clouds(image):\n",
    "                qa = image.select('QA60')\n",
    "                #  # Bits 10 and 11 are clouds and cirrus, respectively.\n",
    "                cloudBitMask = 1 << 10\n",
    "                cirrusBitMask = 1 << 11\n",
    "                # Both flags should be set to zero, indicating clear conditions.\n",
    "                mask = qa.bitwiseAnd(cloudBitMask).eq(0) \\\n",
    "                    .And(qa.bitwiseAnd(cirrusBitMask).eq(0))\n",
    "                return image.updateMask(mask).divide(10000)\n",
    "            geometry= ee.Geometry.Polygon([[76.79911551271984,30.6168475776271],\n",
    "                            [76.79911551271984,30.62644958134403],\n",
    "                            [76.78280768190929,30.62644958134403],\n",
    "                            [76.78280768190929,30.6168475776271]])\n",
    "            S2_SR = ee.ImageCollection('COPERNICUS/S2_SR').filterBounds(geometry)\\\n",
    "                    .filterDate('2021-01-01', '2021-08-06')\\\n",
    "                    .filter(ee.Filter.lt('CLOUDY_PIXEL_PERCENTAGE',20)) \\\n",
    "                               .map(maskS2clouds)\\\n",
    "                    .select(['B2','B3','B4','B8','B11','B12'])\n",
    "            def addVI(image):\n",
    "                VI = image.normalizedDifference([band1, band2]).rename('VI')\n",
    "                return image.addBands(VI)\n",
    "            S2_SR = S2_SR.map(addVI)\n",
    "            image= S2_SR.select('VI').toBands()\n",
    "            recent_S2 = ee.Image(S2_SR.sort('system:time_start', False).first())\n",
    "            palette = cm.palettes.ndvi\n",
    "            ndviVis = {\n",
    "                'min': 0.0,\n",
    "                'max': 1.0,\n",
    "                'palette': palette\n",
    "                 }\n",
    "            VI=recent_S2.select('VI')\n",
    "            #Map.setCenter(76.8006, 30.6238, 14)\n",
    "            #Map.set_plot_options(add_marker_cluster=False,position='bottomright',overlay=False,max_height=250,max_width=800)\n",
    "            # To Draw features on a particular layer\n",
    "            Map.addLayer(image,{}, 'Timeseries of Sentinel VI',opacity=.1)\n",
    "            roi1 = ee.FeatureCollection(Map.draw_features)\n",
    "            ndvi_img=VI.clip(roi1)       \n",
    "            Map.addLayer(ndvi_img,ndviVis,'VI_image')\n",
    "            \n",
    "                           \n",
    "        except Exception as e:\n",
    "            print(e)\n",
    "            print('An error occurred during computation.') \n",
    "        Map.default_style = {'cursor': 'default'}\n",
    "            \n",
    "submit.on_click(submit_clicked)"
   ]
  }
 ],
 "metadata": {
  "kernelspec": {
   "display_name": "Python 3",
   "language": "python",
   "name": "python3"
  },
  "language_info": {
   "codemirror_mode": {
    "name": "ipython",
    "version": 3
   },
   "file_extension": ".py",
   "mimetype": "text/x-python",
   "name": "python",
   "nbconvert_exporter": "python",
   "pygments_lexer": "ipython3",
   "version": "3.8.5"
  }
 },
 "nbformat": 4,
 "nbformat_minor": 4
}
