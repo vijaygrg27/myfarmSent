{
 "cells": [
  {
   "cell_type": "code",
   "execution_count": 1,
   "metadata": {},
   "outputs": [],
   "source": [
    "import ee\n",
    "import geemap\n",
    "import geemap.colormaps as cm\n",
    "import ipywidgets as widgets\n",
    "from bqplot import pyplot as plt\n",
    "from ipyleaflet import WidgetControl\n",
    "from ipygee import *\n",
    "import plotly.express as px\n",
    "import pandas as pd"
   ]
  },
  {
   "cell_type": "code",
   "execution_count": 3,
   "metadata": {},
   "outputs": [
    {
     "data": {
      "application/vnd.jupyter.widget-view+json": {
       "model_id": "899f475dce8a44e5bee8c96649292d9a",
       "version_major": 2,
       "version_minor": 0
      },
      "text/plain": [
       "Map(center=[30.6238, 76.8006], controls=(WidgetControl(options=['position', 'transparent_bg'], widget=HBox(chi…"
      ]
     },
     "metadata": {},
     "output_type": "display_data"
    }
   ],
   "source": [
    "Map = geemap.Map()\n",
    "Map.add_basemap('HYBRID')\n",
    "Map.setCenter(76.8006, 30.6238, 14)\n",
    "#Map.zoom_to_me(zoom=14, add_marker=True)\n",
    "Map"
   ]
  },
  {
   "cell_type": "code",
   "execution_count": 4,
   "metadata": {},
   "outputs": [
    {
     "data": {
      "application/vnd.jupyter.widget-view+json": {
       "model_id": "6bc677959ebd4af1a3dd8df065499528",
       "version_major": 2,
       "version_minor": 0
      },
      "text/plain": [
       "VBox(children=(HBox(children=(FloatSlider(value=0.0, description='Threshold:', max=1.0, min=-1.0, step=0.01, s…"
      ]
     },
     "metadata": {},
     "output_type": "display_data"
    }
   ],
   "source": [
    "style = {'description_width': 'initial'}\n",
    "\n",
    "output_widget = widgets.Output(layout={'border': '1px solid black'})\n",
    "output_control = WidgetControl(widget=output_widget, position='bottomright')\n",
    "Map.add_control(output_control)\n",
    "\n",
    "nd_options = ['Vegetation Index (NDVI)', \n",
    "              'Modified Water Index (MNDWI)',\n",
    "              'Soil Index (NDSI)',\n",
    "              'Customized']\n",
    "nd_indices = widgets.Dropdown(options=nd_options, value='Vegetation Index (NDVI)', description='Normalized Difference Index:', style=style)\n",
    "\n",
    "year_widget = widgets.IntSlider(min=2017, max=2021, value=2021, description='Selected year:', width=400, style=style)\n",
    "\n",
    "Startdate = ['2018-01-01','2019-01-01','2020-01-01','2021-01-01']\n",
    "#Startdate = ['2018','2019','2020','2021']\n",
    "startdate = widgets.Dropdown(options=Startdate, value='2021-01-01', description='Startdate', style=style)\n",
    "\n",
    "Enddate = ['2018-12-31','2019-12-31','2020-12-31','2021-12-31']\n",
    "\n",
    "enddate = widgets.Dropdown(options=Enddate, value='2021-12-31', description='End Date', style=style)\n",
    "\n",
    "first_band = widgets.Dropdown(\n",
    "    description='1st band:',\n",
    "    options=['B2', 'B3','B4','B8', 'B11', 'B12'],\n",
    "    value='B8',\n",
    "    style=style\n",
    ")\n",
    "\n",
    "second_band = widgets.Dropdown(\n",
    "    description='2nd band:',\n",
    "    options=['B2', 'B3','B4','B8', 'B11', 'B12'],\n",
    "    value='B4',\n",
    "    style=style\n",
    ")\n",
    "\n",
    "nd_threshold = widgets.FloatSlider(\n",
    "    value=0,\n",
    "    min=-1,\n",
    "    max=1,\n",
    "    step=0.01,\n",
    "    description='Threshold:',\n",
    "    orientation='horizontal',\n",
    "    style=style\n",
    ")\n",
    "\n",
    "aoi_widget = widgets.Checkbox(\n",
    "    value=True,\n",
    "    description='Use user-drawn AOI',\n",
    "    style=style\n",
    ")\n",
    "\n",
    "def aoi_change(change):\n",
    "    Map.layers = Map.layers[:4]   \n",
    "    Map.user_roi = None\n",
    "    Map.user_rois = None\n",
    "    Map.draw_count = 0\n",
    "    output_widget.clear_output()\n",
    "    \n",
    "aoi_widget.observe(aoi_change, names='value')\n",
    "\n",
    "nd_color = widgets.ColorPicker(\n",
    "    concise=False,\n",
    "    description='Color:',\n",
    "    value='blue',\n",
    "    style=style\n",
    ")\n",
    "\n",
    "def nd_index_change(change):\n",
    "    if nd_indices.value == 'Vegetation Index (NDVI)':\n",
    "        first_band.value = 'B8'\n",
    "        second_band.value = 'B4' \n",
    "    elif nd_indices.value == 'Modified Water Index (MNDWI)':\n",
    "        first_band.value = 'B3'\n",
    "        second_band.value = 'B11'   \n",
    "    elif nd_indices.value == 'Soil Index (NDSI)':\n",
    "        first_band.value = 'B11'\n",
    "        second_band.value = 'B8'        \n",
    "    elif nd_indices.value == 'Customized':\n",
    "        first_band.value = None\n",
    "        second_band.value = None\n",
    "        \n",
    "nd_indices.observe(nd_index_change, names='value')\n",
    "\n",
    "submit = widgets.Button(\n",
    "    description='Submit',\n",
    "    button_style='primary',\n",
    "    tooltip='Click me',\n",
    "    style=style\n",
    ")\n",
    "\n",
    "full_widget = widgets.VBox([\n",
    "    widgets.HBox([nd_threshold]),\n",
    "    widgets.HBox([startdate,enddate]),\n",
    "    widgets.HBox([nd_indices, first_band, second_band]),\n",
    "    submit\n",
    "])\n",
    "\n",
    "full_widget"
   ]
  },
  {
   "cell_type": "code",
   "execution_count": 6,
   "metadata": {},
   "outputs": [],
   "source": [
    "import os\n",
    "download_dir = os.path.join(os.path.expanduser('~'), 'Downloads')\n",
    "if not os.path.exists(download_dir):\n",
    "    os.makedirs(download_dir)\n",
    "html_file = os.path.join(download_dir, 'my_map.html')"
   ]
  },
  {
   "cell_type": "code",
   "execution_count": 10,
   "metadata": {},
   "outputs": [],
   "source": [
    "Map.to_html(outfile=html_file, title='My Map', width='100%', height='600px')"
   ]
  },
  {
   "cell_type": "code",
   "execution_count": null,
   "metadata": {},
   "outputs": [],
   "source": []
  }
 ],
 "metadata": {
  "kernelspec": {
   "display_name": "Python 3",
   "language": "python",
   "name": "python3"
  },
  "language_info": {
   "codemirror_mode": {
    "name": "ipython",
    "version": 3
   },
   "file_extension": ".py",
   "mimetype": "text/x-python",
   "name": "python",
   "nbconvert_exporter": "python",
   "pygments_lexer": "ipython3",
   "version": "3.8.5"
  }
 },
 "nbformat": 4,
 "nbformat_minor": 4
}
